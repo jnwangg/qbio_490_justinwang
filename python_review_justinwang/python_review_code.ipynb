{
 "cells": [
  {
   "cell_type": "markdown",
   "metadata": {},
   "source": [
    "# Python Review Project\n",
    "First, we import necessary packages and set our working directory. We then load the proteomic, transcriptomic, and clinical CCRCC data, performing some initial reformatting on the proteomic dataset."
   ]
  },
  {
   "cell_type": "code",
   "execution_count": null,
   "metadata": {},
   "outputs": [],
   "source": [
    "# Import packages.\n",
    "import os\n",
    "import cptac\n",
    "import numpy as np\n",
    "import pandas as pd\n",
    "from sklearn.impute import KNNImputer\n",
    "from sklearn.preprocessing import OrdinalEncoder\n",
    "from sklearn.preprocessing import StandardScaler\n",
    "from sklearn.metrics import accuracy_score\n",
    "from sklearn.model_selection import train_test_split\n",
    "from sklearn.neighbors import KNeighborsClassifier\n",
    "from sklearn.tree import DecisionTreeClassifier\n",
    "from sklearn.neural_network import MLPClassifier\n",
    "from sklearn.naive_bayes import GaussianNB\n",
    "\n",
    "# Set working directory.\n",
    "os.chdir('/mnt/c/analysis_data/')\n",
    "\n",
    "# Download CCRCC dataset.\n",
    "cptac.download(dataset=\"Ccrcc\")\n",
    "\n",
    "# Load dataset.\n",
    "ccrcc = cptac.Ccrcc()\n",
    "\n",
    "# Load protein, RNA, and clinical data.\n",
    "protein_data = ccrcc.get_proteomics()\n",
    "rna_data = ccrcc.get_transcriptomics()\n",
    "clinical_data = ccrcc.get_clinical()\n",
    "\n",
    "# Collapse column names in protein data and removes database IDs.\n",
    "protein_data.columns = protein_data.columns.get_level_values(0)"
   ]
  },
  {
   "cell_type": "markdown",
   "metadata": {},
   "source": [
    "Now, we perform all of our data preprocessing. First, we select only patients that are shared between all three datasets. We then filter any patients with missing tumor stage information. We also remove any genes with zero expression, as log-scaling this data would otherwise result in values of infinity. Subsequently, we impute expression levels for any proteins with missing expression information, as filtering results in the loss of a large proportion of our data. Finally, we log-scale the transcriptomic dataset."
   ]
  },
  {
   "cell_type": "code",
   "execution_count": 2,
   "metadata": {},
   "outputs": [],
   "source": [
    "# Select patients shared between all three dataframes.\n",
    "shared_patients = np.intersect1d(rna_data.index, protein_data.index)\n",
    "\n",
    "# Select genes shared between protein and RNA data.\n",
    "shared_genes = np.intersect1d(rna_data.columns, protein_data.columns)\n",
    "\n",
    "# Subset dataframes based on shared patients.\n",
    "protein_shared = protein_data.loc[shared_patients, shared_genes]\n",
    "rna_shared = rna_data.loc[shared_patients, shared_genes]\n",
    "clinical_shared = clinical_data.loc[shared_patients, :]\n",
    "\n",
    "# Filter any patients with NA tumor stage.\n",
    "clinical_shared = clinical_shared.dropna(subset = \"tumor_stage_pathological\", axis = 0)\n",
    "rna_shared = rna_shared.loc[clinical_shared.index, :]\n",
    "protein_shared = protein_shared.loc[clinical_shared.index, :]\n",
    "\n",
    "# Filter any genes with zero expression (for log scaling).\n",
    "rna_shared = rna_shared.drop(rna_shared.columns[rna_shared.eq(0).any()], axis = 1)\n",
    "protein_shared = protein_shared.loc[:, rna_shared.columns]\n",
    "\n",
    "# Impute any proteins with NA expression.\n",
    "imputer = KNNImputer(missing_values = np.nan)\n",
    "transformed = imputer.fit_transform(protein_shared)\n",
    "transformed = pd.DataFrame(transformed, index = protein_shared.index, columns = protein_shared.columns)\n",
    "protein_shared.update(transformed)\n",
    "\n",
    "# Log-scale RNA data.\n",
    "rna_shared = np.log2(rna_shared)"
   ]
  },
  {
   "cell_type": "markdown",
   "metadata": {},
   "source": [
    "We now determine differentially expressed genes/proteins between Stage I and Stage III patients for both the transcriptomic and proteomic data. We do this simplistically, taking the absolute difference of the mean gene expression across all patients in each tumor stage."
   ]
  },
  {
   "cell_type": "code",
   "execution_count": 3,
   "metadata": {},
   "outputs": [
    {
     "name": "stdout",
     "output_type": "stream",
     "text": [
      "<bound method NDFrame.head of Name\n",
      "AJAP1     1.738594\n",
      "DPEP1     1.540969\n",
      "GALNT5    1.513785\n",
      "FABP7     1.352365\n",
      "HP        1.284551\n",
      "dtype: float64>\n",
      "Name\n",
      "FTL       0.862165\n",
      "IGFLR1    0.707417\n",
      "HBA2      0.589100\n",
      "CMA1      0.583464\n",
      "HBB       0.557303\n",
      "dtype: float64\n"
     ]
    }
   ],
   "source": [
    "# Subset protein and RNA data into Stage I and Stage III patients.\n",
    "clinical_s1 = clinical_shared.loc[clinical_shared[\"tumor_stage_pathological\"] == \"Stage I\", :]\n",
    "clinical_s3 = clinical_shared.loc[clinical_shared[\"tumor_stage_pathological\"] == \"Stage III\", :]\n",
    "\n",
    "# Calculate top five DEGs for RNA data.\n",
    "rna_s1 = rna_shared[rna_shared.index.isin(clinical_s1.index)]\n",
    "rna_s3 = rna_shared[rna_shared.index.isin(clinical_s3.index)]\n",
    "rna_expr_diff = abs(rna_s1.mean() - rna_s3.mean())\n",
    "rna_degs = rna_expr_diff.sort_values(ascending = False).head(5)\n",
    "print(rna_degs.head)\n",
    "\n",
    "# Calculate top five DEGs for protein data.\n",
    "protein_s1 = protein_shared[protein_shared.index.isin(clinical_s1.index)]\n",
    "protein_s3 = protein_shared[protein_shared.index.isin(clinical_s3.index)]\n",
    "protein_expr_diff = abs(protein_s1.mean() - protein_s3.mean())\n",
    "protein_degs = protein_expr_diff.sort_values(ascending = False).head(5)\n",
    "print(protein_degs)"
   ]
  },
  {
   "cell_type": "markdown",
   "metadata": {},
   "source": [
    "We then extract expression information for these differentially expressed genes/proteins and combine them into one dataframe. We also extract the tumor stage of each patient. These are our features and targets, respectively. To prepare for classifier training, we encode the tumor stages and scale the expression information."
   ]
  },
  {
   "cell_type": "code",
   "execution_count": 4,
   "metadata": {},
   "outputs": [],
   "source": [
    "# Subset DEGs for protein and RNA data into one dataframe.\n",
    "features_deg = pd.concat([rna_shared.loc[:, rna_degs.index], protein_shared.loc[:, protein_degs.index]], axis = 1)\n",
    "\n",
    "# Extract patient tumor stages.\n",
    "targets_stage = clinical_shared[[\"tumor_stage_pathological\"]]\n",
    "\n",
    "# Encode patient tumor stages.\n",
    "encoder = OrdinalEncoder()\n",
    "targets_stage = encoder.fit_transform(targets_stage)\n",
    "\n",
    "# Scale features.\n",
    "scaler = StandardScaler()\n",
    "features_deg = scaler.fit_transform(features_deg)"
   ]
  },
  {
   "cell_type": "markdown",
   "metadata": {},
   "source": [
    "Now, we test four classifiers: K-Nearest Neighbors, Decision Tree, Multi-Layer Perceptron, and Naive-Bayes. We run each classifier ten times, performing a new 70/30 train-test split on each trial. The mean accuracy of each classifier across these ten trials is then output."
   ]
  },
  {
   "cell_type": "code",
   "execution_count": 5,
   "metadata": {},
   "outputs": [
    {
     "name": "stdout",
     "output_type": "stream",
     "text": [
      "\n",
      "After 10 simulations, the average accuracy for each classifier is as follows:\n",
      "\tK-Nearest Neighbors : 52.42%\n",
      "\tDecision Tree : 37.88%\n",
      "\tMulti-Layer Perceptron : 50.0%\n",
      "\tNaive-Bayes : 56.36%\n"
     ]
    }
   ],
   "source": [
    "# Classifiers to test.\n",
    "classifiers = [\n",
    "    KNeighborsClassifier(),\n",
    "    DecisionTreeClassifier(),\n",
    "    MLPClassifier(max_iter = 1000),\n",
    "    GaussianNB()\n",
    "]\n",
    "classifiers_names = ['K-Nearest Neighbors', 'Decision Tree', 'Multi-Layer Perceptron', 'Naive-Bayes']\n",
    "\n",
    "classifiers_acc = {\n",
    "    0: [],\n",
    "    1: [],\n",
    "    2: [],\n",
    "    3: [],\n",
    "}\n",
    "\n",
    "# Test each classifier and output mean accuracy across ten trials.\n",
    "for i in range(len(classifiers)):\n",
    "    accuracy = []\n",
    "    classifier = classifiers[i]\n",
    "    for j in range(10):\n",
    "        X_train, X_test, y_train, y_test = train_test_split(features_deg, targets_stage.ravel(), train_size = 0.70)\n",
    "        classifier.fit(X_train, y_train)\n",
    "        y_pred = classifier.predict(X_test)\n",
    "        classifiers_acc[i].append(accuracy_score(y_test, y_pred))\n",
    "\n",
    "# Print results.\n",
    "print('\\nAfter 10 simulations, the average accuracy for each classifier is as follows:')\n",
    "for i in classifiers_acc:\n",
    "    print(f'\\t{classifiers_names[i]} : {round(np.mean(classifiers_acc[i]) * 100, ndigits = 2)}%')"
   ]
  },
  {
   "cell_type": "markdown",
   "metadata": {},
   "source": [
    "Based on the above results, it appears that the Naive-Bayes classifier has the best predictive accuracy here. "
   ]
  }
 ],
 "metadata": {
  "kernelspec": {
   "display_name": "qbio490",
   "language": "python",
   "name": "python3"
  },
  "language_info": {
   "codemirror_mode": {
    "name": "ipython",
    "version": 3
   },
   "file_extension": ".py",
   "mimetype": "text/x-python",
   "name": "python",
   "nbconvert_exporter": "python",
   "pygments_lexer": "ipython3",
   "version": "3.9.18"
  }
 },
 "nbformat": 4,
 "nbformat_minor": 2
}
